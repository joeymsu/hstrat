{
 "cells": [
  {
   "cell_type": "markdown",
   "metadata": {},
   "source": [
    "## Quickstart\n",
    "\n",
    "The goal of this software is to enable approximate inference of the phylogenetic history of a distributed digital population solely through analysis of heritable genome annotations.\n",
    "Put another way, given a scenario where packets of data are being copied and moved within a distributed system, this software enables estimation of how closely any two data packets are related.\n",
    "More precisely, for any two extant data packets, estimation bounds can be produced for the number of copies elapsed from those packets’ last shared source copy (i.e., most recent common ancestor a.k.a. MRCA) to yield each extant packet.\n",
    "This is done by means of annotations on the data being copied itself — no centralized tracking system required.\n",
    "\n",
    "This capability has direct applications in digital evolution research (e.g., artificial life, genetic programming, genetic algorithms), and also may prove useful for other distributed systems applications."
   ]
  },
  {
   "cell_type": "markdown",
   "metadata": {},
   "source": [
    "### Installation"
   ]
  },
  {
   "cell_type": "code",
   "execution_count": null,
   "metadata": {},
   "outputs": [],
   "source": [
    "%%capture\n",
    "!python3 -m pip install hstrat"
   ]
  },
  {
   "cell_type": "markdown",
   "metadata": {},
   "source": [
    "### Getting Started\n",
    "\n",
    "In order to track the data (referred to as *stratum*) deposited at each generation, we can use an annotation called a *hereditary stratigraphic column*.\n"
   ]
  },
  {
   "cell_type": "code",
   "execution_count": null,
   "metadata": {},
   "outputs": [],
   "source": [
    "from hstrat import hstrat\n",
    "\n",
    "founder1 = hstrat.HereditaryStratigraphicColumn(\n",
    "    stratum_retention_policy=hstrat.fixed_resolution_algo.Policy(1)\n",
    ")\n",
    "founder2 = hstrat.HereditaryStratigraphicColumn(\n",
    "    stratum_retention_policy=hstrat.fixed_resolution_algo.Policy(3),\n",
    ")"
   ]
  },
  {
   "cell_type": "markdown",
   "metadata": {},
   "source": [
    "For each annotation, a specific *stratum retention policy* can be chosen.\n",
    "Simply put, these are various methods use follow a specific algorithm to \"prune\", or systematically delete, data in the column to avoid a linear space complexity.\n",
    "As a downside, pruning results in uncertainty in MRCA generation estimates.\n",
    "\n",
    "In the example above, the algorithm `fixed_resolution_algo` was chosen.\n",
    "The specific policy instance is supplied an integer that dictates the amount of pruning, with smaller values resulting in denser stratum retention.\n",
    "For example, a policy using the fixed resolution algorithm supplied with the value three would retain strata from every third generation.\n",
    "\n",
    "Below is a quick overview of the five available algorithms.\n",
    "For a more in depth overview, visit [Choosing a Retention Policy](./policies.html).\n",
    "\n",
    "\n",
    "| Stratum Retention Algorithm               | Space Complexity | MRCA Gen Uncertainty |\n",
    "| ----------------------------------------- | ---------------- | -------------------- |\n",
    "| Fixed Resolution Algorithm                | `n/k`            | `k`                  |\n",
    "| Recency-proportional Resolution Algorithm | `k * log(n)`     | `m/k`                |\n",
    "| Depth-proportional Resolution Algorithm   | `k`              | `n/k`                |\n",
    "| Geometric Sequence Nth Root Algorithm     | `k`              | `m * n^(1/k)`        |\n",
    "| Curbed Recency-proportional Resolution Algorithm | `k`     | `m / k` -> `m * n^(1/k)` |\n"
   ]
  },
  {
   "cell_type": "markdown",
   "metadata": {},
   "source": [
    "### Estimating MCRA\n",
    "To check for common ancestors between two columns:\n"
   ]
  },
  {
   "cell_type": "code",
   "execution_count": null,
   "metadata": {},
   "outputs": [],
   "source": [
    "hstrat.does_have_any_common_ancestor(founder1, founder2)"
   ]
  },
  {
   "cell_type": "markdown",
   "metadata": {},
   "source": [
    "In order for two columns to have a common ancestor, one of the columns must be created from another.\n",
    "This can be accomplished using the `Clone()` method. The `CloneDescendant()` and `CloneNthDescendant(n)` methods are also available, cloning and then depositing one and n descendants respectively."
   ]
  },
  {
   "cell_type": "code",
   "execution_count": null,
   "metadata": {},
   "outputs": [],
   "source": [
    "descendant2a = founder2.Clone()\n",
    "for __ in range(10):\n",
    "    descendant2a.DepositStratum()\n",
    "\n",
    "descendant2b = descendant2a.CloneDescendant()\n",
    "descendant2c = descendant2a.CloneNthDescendant(20)\n",
    "\n",
    "hstrat.does_have_any_common_ancestor(founder2, descendant2a)"
   ]
  },
  {
   "cell_type": "markdown",
   "metadata": {},
   "source": [
    "A new generation of stratum can be added by running `DepositStratum()` on specific hereditary stratigraphic columns.\n",
    "To elapse multiple generations, `DepositStrata()` can also be used, taking in an integer to specify the number of generations elapsed.\n",
    "\n",
    "If you want to find the number of generations elapsed since the MRCA, `calc_ranks_since_mrca_bounds_with` will return a tuple with the estimated lower and upper bound.\n",
    "The argument `prior` represents the prior probability density distribution over possible generations of the MRCA."
   ]
  },
  {
   "cell_type": "code",
   "execution_count": null,
   "metadata": {},
   "outputs": [],
   "source": [
    "hstrat.calc_ranks_since_mrca_bounds_with(\n",
    "    descendant2b,\n",
    "    descendant2c,\n",
    "    prior=\"arbitrary\",\n",
    ")"
   ]
  },
  {
   "cell_type": "code",
   "execution_count": null,
   "metadata": {},
   "outputs": [],
   "source": [
    "hstrat.calc_ranks_since_mrca_bounds_with(\n",
    "    descendant2c,\n",
    "    descendant2b,\n",
    "    prior=\"arbitrary\",\n",
    ")"
   ]
  },
  {
   "cell_type": "code",
   "execution_count": null,
   "metadata": {},
   "outputs": [],
   "source": [
    "hstrat.calc_rank_of_mrca_bounds_between(\n",
    "    descendant2b, descendant2c, prior=\"arbitrary\"\n",
    ")"
   ]
  },
  {
   "cell_type": "markdown",
   "metadata": {},
   "source": [
    "### Creating and Using Populations\n",
    "\n",
    "A genome can be defined with a user-created class, with a specific attribute containing the annotation for each instance.\n",
    "Using this class, a population of the genome can be created by instantiating a list of objects.\n",
    "\n",
    "An easier way to generate a population of hereditary stratigraphic columns is from a biopython tree using `descend_template_phylogeny_biopython`."
   ]
  },
  {
   "cell_type": "code",
   "execution_count": null,
   "metadata": {},
   "outputs": [],
   "source": [
    "import random\n",
    "\n",
    "random.seed(1)\n",
    "import dendropy as dp\n",
    "\n",
    "tree_url = \"https://raw.githubusercontent.com/mmore500/hstrat/5069db7c358ac6949ceda5fe8cc9989d5d7139f9/examples/assets/example.newick\"\n",
    "template_tree = dp.Tree.get(url=tree_url, schema=\"newick\")\n",
    "for node in template_tree:\n",
    "    node.edge_length = random.randint(1, 10)\n",
    "template_tree.is_rooted = True\n",
    "template_tree.ladderize()\n",
    "print(template_tree.as_ascii_plot(plot_metric=\"length\", width=50))"
   ]
  },
  {
   "cell_type": "code",
   "execution_count": null,
   "metadata": {},
   "outputs": [],
   "source": [
    "extant_population = hstrat.descend_template_phylogeny_dendropy(\n",
    "    template_tree,\n",
    "    seed_column=hstrat.HereditaryStratigraphicColumn(\n",
    "        hstrat.recency_proportional_resolution_algo.Policy(5)\n",
    "    ),\n",
    "    extant_nodes=template_tree.leaf_node_iter(),\n",
    ")"
   ]
  },
  {
   "cell_type": "markdown",
   "metadata": {},
   "source": [
    "This list can be used to test tree reconstruction on, similar to the results of an actual phlyogenetic simulation.\n",
    "The function `build_tree` takes in a population and returns a tree constructed in alife standard format.\n",
    "The `version_pin` parameter dictates how calls to the function should resolve in future releases, with `hstrat.__version__` automatically tracking new updates.\n"
   ]
  },
  {
   "cell_type": "code",
   "execution_count": null,
   "metadata": {},
   "outputs": [],
   "source": [
    "estimated_phylogeny = hstrat.build_tree(\n",
    "    extant_population,\n",
    "    version_pin=hstrat.__version__,\n",
    "    taxon_labels=map(lambda n: n.taxon.label, template_tree.leaf_node_iter()),\n",
    ")\n",
    "estimated_phylogeny"
   ]
  },
  {
   "cell_type": "code",
   "execution_count": null,
   "metadata": {},
   "outputs": [],
   "source": [
    "import alifedata_phyloinformatics_convert as apc\n",
    "\n",
    "dendropy_tree = apc.alife_dataframe_to_dendropy_tree(\n",
    "    estimated_phylogeny,\n",
    "    setup_edge_lengths=True,\n",
    ")\n",
    "dendropy_tree.is_rooted = True\n",
    "dendropy_tree.ladderize()\n",
    "\n",
    "# draw the reconstruction!\n",
    "print(dendropy_tree.as_ascii_plot(plot_metric=\"length\", width=50))"
   ]
  },
  {
   "cell_type": "markdown",
   "metadata": {},
   "source": [
    "### Reading and Displaying Columns\n",
    "\n",
    "An ascii representation of a hereditary stratigraph column can be printed using the `hstrat.col_to_ascii()` function, passing in the specified column as a parameter."
   ]
  },
  {
   "cell_type": "code",
   "execution_count": null,
   "metadata": {},
   "outputs": [],
   "source": [
    "col = hstrat.HereditaryStratigraphicColumn(\n",
    "    stratum_retention_policy=hstrat.fixed_resolution_algo.Policy(3),\n",
    ")\n",
    "\n",
    "for __ in range(5):\n",
    "    col.DepositStratum()\n",
    "\n",
    "print(hstrat.col_to_ascii(col))"
   ]
  },
  {
   "cell_type": "markdown",
   "metadata": {},
   "source": [
    "A column can also be exported to pandas dataframe.\n"
   ]
  },
  {
   "cell_type": "code",
   "execution_count": null,
   "metadata": {},
   "outputs": [],
   "source": [
    "policy = hstrat.recency_proportional_resolution_algo.Policy(3)\n",
    "\n",
    "col = hstrat.HereditaryStratigraphicColumn(\n",
    "    stratum_retention_policy=policy,\n",
    ")\n",
    "for __ in range(100):\n",
    "    col.DepositStratum()\n",
    "\n",
    "hstrat.col_to_dataframe(col)"
   ]
  },
  {
   "cell_type": "markdown",
   "metadata": {},
   "source": [
    "### Further Reading\n",
    "- [Choosing a Retention Policy](./policies.html)\n",
    "- [Surface repository](https://github.com/mmore500/hstrat-surface-concept/tree/master)\n"
   ]
  }
 ],
 "metadata": {
  "kernelspec": {
   "display_name": "env",
   "language": "python",
   "name": "python3"
  },
  "language_info": {
   "codemirror_mode": {
    "name": "ipython",
    "version": 3
   },
   "file_extension": ".py",
   "mimetype": "text/x-python",
   "name": "python",
   "nbconvert_exporter": "python",
   "pygments_lexer": "ipython3"
  }
 },
 "nbformat": 4,
 "nbformat_minor": 2
}
